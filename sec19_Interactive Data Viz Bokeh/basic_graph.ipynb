{
 "cells": [
  {
   "cell_type": "code",
   "execution_count": 9,
   "id": "6256c965-b84e-481a-b2fa-593c48dbe9e1",
   "metadata": {},
   "outputs": [],
   "source": [
    "from bokeh.io import output_file, show\n",
    "from bokeh.plotting import figure\n",
    "import pandas as pd"
   ]
  },
  {
   "cell_type": "code",
   "execution_count": 10,
   "id": "bf7ef1a6-9f05-4563-8797-8ba4197e7d65",
   "metadata": {},
   "outputs": [],
   "source": [
    "#making a basic Bokeh line graph\n",
    "\n",
    "x = [1,2,3,4,5]\n",
    "y = [6,7,8,9,10]\n",
    "\n",
    "output_file(\"Line.html\")\n",
    "\n",
    "f = figure()\n",
    "\n",
    "f.line(x, y)\n",
    "\n",
    "show(f)"
   ]
  },
  {
   "cell_type": "code",
   "execution_count": 11,
   "id": "3f3e2e26-a9d9-4533-93ab-2df45c399d7b",
   "metadata": {},
   "outputs": [],
   "source": [
    "#Making a basic Bokeh triangle graph\n",
    " \n",
    "#prepare some data\n",
    "x=[3,7.5,10]\n",
    "y=[3,6,9]\n",
    " \n",
    "#prepare the output file\n",
    "output_file(\"triangle.html\")\n",
    " \n",
    "#create a figure object\n",
    "f=figure()\n",
    " \n",
    "#create line plot\n",
    "f.triangle(x,y)\n",
    " \n",
    "#write the plot in the figure object\n",
    "show(f)"
   ]
  },
  {
   "cell_type": "code",
   "execution_count": 12,
   "id": "3fbe7b47-e688-4a21-90d1-f46f1866a047",
   "metadata": {},
   "outputs": [],
   "source": [
    "#Making a basic Bokeh circle graph\n",
    " \n",
    "#prepare some data\n",
    "x=[3,7.5,10]\n",
    "y=[3,6,9]\n",
    " \n",
    "#prepare the output file\n",
    "output_file(\"circle.html\")\n",
    " \n",
    "#create a figure object\n",
    "f=figure()\n",
    " \n",
    "#create line plot\n",
    "f.circle(x,y)\n",
    " \n",
    "#write the plot in the figure object\n",
    "show(f)\n"
   ]
  },
  {
   "cell_type": "markdown",
   "id": "4328f733-091c-42c0-b912-918ef63074de",
   "metadata": {},
   "source": [
    "## With pandas"
   ]
  },
  {
   "cell_type": "code",
   "execution_count": 13,
   "id": "0f9325cd-53f1-4c05-87b8-566a006c9c59",
   "metadata": {},
   "outputs": [],
   "source": [
    "#making a basic Bokeh line graph\n",
    "\n",
    "df = pd.read_csv('data.csv')\n",
    "x = df['x']\n",
    "y = df['y']\n",
    "\n",
    "output_file(\"Line.html\")\n",
    "\n",
    "f = figure()\n",
    "\n",
    "f.line(x, y)\n",
    "\n",
    "show(f)"
   ]
  },
  {
   "cell_type": "markdown",
   "id": "56e85e56-230c-489e-8984-17f8c6f4b231",
   "metadata": {},
   "source": [
    "## Plotting Education Dat"
   ]
  },
  {
   "cell_type": "code",
   "execution_count": 8,
   "id": "c34d7756-7bf5-46bc-b393-e5be2cd0b70d",
   "metadata": {},
   "outputs": [],
   "source": [
    "#Plotting percentage of women who received an engineering degree over years\n",
    " \n",
    "#prepare some data\n",
    "df=pd.read_csv(\"bachelors.csv\")\n",
    "x=df[\"Year\"]\n",
    "y=df[\"Engineering\"]\n",
    " \n",
    "#prepare the output file\n",
    "output_file(\"Line_from_bachelors.html\")\n",
    " \n",
    "#create a figure object\n",
    "f=figure()\n",
    " \n",
    "#create line plot\n",
    "f.line(x,y)\n",
    " \n",
    "#write the plot in the figure object\n",
    "show(f)"
   ]
  },
  {
   "cell_type": "markdown",
   "id": "9be93c70-6370-4064-a6aa-96229e54b7f0",
   "metadata": {},
   "source": [
    "## Plotting Weather Data"
   ]
  },
  {
   "cell_type": "code",
   "execution_count": 15,
   "id": "5a0e88a8-8991-4534-a27d-79c9b1bcc182",
   "metadata": {},
   "outputs": [],
   "source": [
    "\n",
    "df=pd.read_excel(\"verlegenhuken.xlsx\",sheet_name=0)\n",
    "df[\"Temperature\"]=df[\"Temperature\"]/10\n",
    "df[\"Pressure\"]=df[\"Pressure\"]/10\n",
    " \n",
    "p=figure(plot_width=500,plot_height=400,tools='pan')\n",
    " \n",
    "p.title.text=\"Temperature and Air Pressure\"\n",
    "p.title.text_color=\"Gray\"\n",
    "p.title.text_font=\"arial\"\n",
    "p.title.text_font_style=\"bold\"\n",
    "p.xaxis.minor_tick_line_color=None\n",
    "p.yaxis.minor_tick_line_color=None\n",
    "p.xaxis.axis_label=\"Temperature (°C)\"\n",
    "p.yaxis.axis_label=\"Pressure (hPa)\"    \n",
    " \n",
    "p.circle(df[\"Temperature\"],df[\"Pressure\"],size=0.5)\n",
    "output_file(\"Weather.html\")\n",
    "show(p)"
   ]
  },
  {
   "cell_type": "markdown",
   "id": "c77e48bd-f5f7-4a78-8955-7800781b268c",
   "metadata": {},
   "source": [
    "## Changing Visual Attributes"
   ]
  },
  {
   "cell_type": "code",
   "execution_count": 16,
   "id": "84eb0335-b204-4ea2-9d9f-2928ae55aab3",
   "metadata": {},
   "outputs": [],
   "source": [
    "p = figure(plot_width=500, plot_height=400, tools = 'pan, reset')\n",
    "p.title.text = \"Earthquakes\"\n",
    "p.title.text_color = \"Orange\"\n",
    "p.title.text_font = \"times\"\n",
    "p.title.text_font_style = \"italic\"\n",
    "p.yaxis.minor_tick_line_color = \"Yellow\"\n",
    "p.xaxis.axis_label = \"Times\"\n",
    "p.yaxis.axis_label = \"Value\"\n",
    "p.circle([1,2,3,4,5], [5,6,5,5,3], size = [i*2 for i in [8,12,14,15,20]], color=\"red\", alpha=0.5)\n",
    "output_file(\"Scatter_plotting.html\")\n",
    "show(p)"
   ]
  },
  {
   "cell_type": "markdown",
   "id": "067fea15-ecd5-4ef5-b655-3dbbcb4be0e2",
   "metadata": {},
   "source": [
    "## Creating a Time-series Plot"
   ]
  },
  {
   "cell_type": "code",
   "execution_count": 17,
   "id": "e6961514-c12b-4f72-9ea5-f8b98e9951ac",
   "metadata": {
    "collapsed": true,
    "jupyter": {
     "outputs_hidden": true
    },
    "tags": []
   },
   "outputs": [
    {
     "ename": "ValueError",
     "evalue": "Missing column provided to 'parse_dates': 'Date'",
     "output_type": "error",
     "traceback": [
      "\u001b[1;31m---------------------------------------------------------------------------\u001b[0m",
      "\u001b[1;31mValueError\u001b[0m                                Traceback (most recent call last)",
      "\u001b[1;32m<ipython-input-17-2a0352648eb0>\u001b[0m in \u001b[0;36m<module>\u001b[1;34m\u001b[0m\n\u001b[1;32m----> 1\u001b[1;33m \u001b[0mdf\u001b[0m \u001b[1;33m=\u001b[0m \u001b[0mpd\u001b[0m\u001b[1;33m.\u001b[0m\u001b[0mread_csv\u001b[0m\u001b[1;33m(\u001b[0m\u001b[1;34m\"http://www.google.com/finance/historical?q=NASDAQ:ADBE&startdate=Jan+01%2C+2009&enddate=Aug+2%2C+2012&output=csv\"\u001b[0m\u001b[1;33m,\u001b[0m \u001b[0mparse_dates\u001b[0m\u001b[1;33m=\u001b[0m\u001b[1;33m[\u001b[0m\u001b[1;34m'Date'\u001b[0m\u001b[1;33m]\u001b[0m\u001b[1;33m)\u001b[0m\u001b[1;33m\u001b[0m\u001b[1;33m\u001b[0m\u001b[0m\n\u001b[0m\u001b[0;32m      2\u001b[0m \u001b[1;33m\u001b[0m\u001b[0m\n\u001b[0;32m      3\u001b[0m \u001b[0mp\u001b[0m \u001b[1;33m=\u001b[0m \u001b[0mfigure\u001b[0m\u001b[1;33m(\u001b[0m\u001b[0mplot_width\u001b[0m\u001b[1;33m=\u001b[0m\u001b[1;36m500\u001b[0m\u001b[1;33m,\u001b[0m \u001b[0mplot_height\u001b[0m\u001b[1;33m=\u001b[0m\u001b[1;36m500\u001b[0m\u001b[1;33m,\u001b[0m \u001b[0mx_axis_type\u001b[0m\u001b[1;33m=\u001b[0m\u001b[1;34m\"datetime\"\u001b[0m\u001b[1;33m)\u001b[0m\u001b[1;33m\u001b[0m\u001b[1;33m\u001b[0m\u001b[0m\n\u001b[0;32m      4\u001b[0m \u001b[1;33m\u001b[0m\u001b[0m\n\u001b[0;32m      5\u001b[0m \u001b[0mp\u001b[0m\u001b[1;33m.\u001b[0m\u001b[0mline\u001b[0m\u001b[1;33m(\u001b[0m\u001b[0mdf\u001b[0m\u001b[1;33m[\u001b[0m\u001b[1;34m'Date'\u001b[0m\u001b[1;33m]\u001b[0m\u001b[1;33m,\u001b[0m \u001b[0mdf\u001b[0m\u001b[1;33m[\u001b[0m\u001b[1;34m'Close'\u001b[0m\u001b[1;33m]\u001b[0m\u001b[1;33m,\u001b[0m \u001b[0mcolor\u001b[0m\u001b[1;33m=\u001b[0m\u001b[1;34m'Orange'\u001b[0m\u001b[1;33m,\u001b[0m \u001b[0malpha\u001b[0m\u001b[1;33m=\u001b[0m\u001b[1;36m0.5\u001b[0m\u001b[1;33m)\u001b[0m\u001b[1;33m\u001b[0m\u001b[1;33m\u001b[0m\u001b[0m\n",
      "\u001b[1;32mC:\\chengxu\\Anaconda3\\lib\\site-packages\\pandas\\io\\parsers.py\u001b[0m in \u001b[0;36mread_csv\u001b[1;34m(filepath_or_buffer, sep, delimiter, header, names, index_col, usecols, squeeze, prefix, mangle_dupe_cols, dtype, engine, converters, true_values, false_values, skipinitialspace, skiprows, skipfooter, nrows, na_values, keep_default_na, na_filter, verbose, skip_blank_lines, parse_dates, infer_datetime_format, keep_date_col, date_parser, dayfirst, cache_dates, iterator, chunksize, compression, thousands, decimal, lineterminator, quotechar, quoting, doublequote, escapechar, comment, encoding, dialect, error_bad_lines, warn_bad_lines, delim_whitespace, low_memory, memory_map, float_precision, storage_options)\u001b[0m\n\u001b[0;32m    608\u001b[0m     \u001b[0mkwds\u001b[0m\u001b[1;33m.\u001b[0m\u001b[0mupdate\u001b[0m\u001b[1;33m(\u001b[0m\u001b[0mkwds_defaults\u001b[0m\u001b[1;33m)\u001b[0m\u001b[1;33m\u001b[0m\u001b[1;33m\u001b[0m\u001b[0m\n\u001b[0;32m    609\u001b[0m \u001b[1;33m\u001b[0m\u001b[0m\n\u001b[1;32m--> 610\u001b[1;33m     \u001b[1;32mreturn\u001b[0m \u001b[0m_read\u001b[0m\u001b[1;33m(\u001b[0m\u001b[0mfilepath_or_buffer\u001b[0m\u001b[1;33m,\u001b[0m \u001b[0mkwds\u001b[0m\u001b[1;33m)\u001b[0m\u001b[1;33m\u001b[0m\u001b[1;33m\u001b[0m\u001b[0m\n\u001b[0m\u001b[0;32m    611\u001b[0m \u001b[1;33m\u001b[0m\u001b[0m\n\u001b[0;32m    612\u001b[0m \u001b[1;33m\u001b[0m\u001b[0m\n",
      "\u001b[1;32mC:\\chengxu\\Anaconda3\\lib\\site-packages\\pandas\\io\\parsers.py\u001b[0m in \u001b[0;36m_read\u001b[1;34m(filepath_or_buffer, kwds)\u001b[0m\n\u001b[0;32m    460\u001b[0m \u001b[1;33m\u001b[0m\u001b[0m\n\u001b[0;32m    461\u001b[0m     \u001b[1;31m# Create the parser.\u001b[0m\u001b[1;33m\u001b[0m\u001b[1;33m\u001b[0m\u001b[1;33m\u001b[0m\u001b[0m\n\u001b[1;32m--> 462\u001b[1;33m     \u001b[0mparser\u001b[0m \u001b[1;33m=\u001b[0m \u001b[0mTextFileReader\u001b[0m\u001b[1;33m(\u001b[0m\u001b[0mfilepath_or_buffer\u001b[0m\u001b[1;33m,\u001b[0m \u001b[1;33m**\u001b[0m\u001b[0mkwds\u001b[0m\u001b[1;33m)\u001b[0m\u001b[1;33m\u001b[0m\u001b[1;33m\u001b[0m\u001b[0m\n\u001b[0m\u001b[0;32m    463\u001b[0m \u001b[1;33m\u001b[0m\u001b[0m\n\u001b[0;32m    464\u001b[0m     \u001b[1;32mif\u001b[0m \u001b[0mchunksize\u001b[0m \u001b[1;32mor\u001b[0m \u001b[0miterator\u001b[0m\u001b[1;33m:\u001b[0m\u001b[1;33m\u001b[0m\u001b[1;33m\u001b[0m\u001b[0m\n",
      "\u001b[1;32mC:\\chengxu\\Anaconda3\\lib\\site-packages\\pandas\\io\\parsers.py\u001b[0m in \u001b[0;36m__init__\u001b[1;34m(self, f, engine, **kwds)\u001b[0m\n\u001b[0;32m    817\u001b[0m             \u001b[0mself\u001b[0m\u001b[1;33m.\u001b[0m\u001b[0moptions\u001b[0m\u001b[1;33m[\u001b[0m\u001b[1;34m\"has_index_names\"\u001b[0m\u001b[1;33m]\u001b[0m \u001b[1;33m=\u001b[0m \u001b[0mkwds\u001b[0m\u001b[1;33m[\u001b[0m\u001b[1;34m\"has_index_names\"\u001b[0m\u001b[1;33m]\u001b[0m\u001b[1;33m\u001b[0m\u001b[1;33m\u001b[0m\u001b[0m\n\u001b[0;32m    818\u001b[0m \u001b[1;33m\u001b[0m\u001b[0m\n\u001b[1;32m--> 819\u001b[1;33m         \u001b[0mself\u001b[0m\u001b[1;33m.\u001b[0m\u001b[0m_engine\u001b[0m \u001b[1;33m=\u001b[0m \u001b[0mself\u001b[0m\u001b[1;33m.\u001b[0m\u001b[0m_make_engine\u001b[0m\u001b[1;33m(\u001b[0m\u001b[0mself\u001b[0m\u001b[1;33m.\u001b[0m\u001b[0mengine\u001b[0m\u001b[1;33m)\u001b[0m\u001b[1;33m\u001b[0m\u001b[1;33m\u001b[0m\u001b[0m\n\u001b[0m\u001b[0;32m    820\u001b[0m \u001b[1;33m\u001b[0m\u001b[0m\n\u001b[0;32m    821\u001b[0m     \u001b[1;32mdef\u001b[0m \u001b[0mclose\u001b[0m\u001b[1;33m(\u001b[0m\u001b[0mself\u001b[0m\u001b[1;33m)\u001b[0m\u001b[1;33m:\u001b[0m\u001b[1;33m\u001b[0m\u001b[1;33m\u001b[0m\u001b[0m\n",
      "\u001b[1;32mC:\\chengxu\\Anaconda3\\lib\\site-packages\\pandas\\io\\parsers.py\u001b[0m in \u001b[0;36m_make_engine\u001b[1;34m(self, engine)\u001b[0m\n\u001b[0;32m   1048\u001b[0m             )\n\u001b[0;32m   1049\u001b[0m         \u001b[1;31m# error: Too many arguments for \"ParserBase\"\u001b[0m\u001b[1;33m\u001b[0m\u001b[1;33m\u001b[0m\u001b[1;33m\u001b[0m\u001b[0m\n\u001b[1;32m-> 1050\u001b[1;33m         \u001b[1;32mreturn\u001b[0m \u001b[0mmapping\u001b[0m\u001b[1;33m[\u001b[0m\u001b[0mengine\u001b[0m\u001b[1;33m]\u001b[0m\u001b[1;33m(\u001b[0m\u001b[0mself\u001b[0m\u001b[1;33m.\u001b[0m\u001b[0mf\u001b[0m\u001b[1;33m,\u001b[0m \u001b[1;33m**\u001b[0m\u001b[0mself\u001b[0m\u001b[1;33m.\u001b[0m\u001b[0moptions\u001b[0m\u001b[1;33m)\u001b[0m  \u001b[1;31m# type: ignore[call-arg]\u001b[0m\u001b[1;33m\u001b[0m\u001b[1;33m\u001b[0m\u001b[0m\n\u001b[0m\u001b[0;32m   1051\u001b[0m \u001b[1;33m\u001b[0m\u001b[0m\n\u001b[0;32m   1052\u001b[0m     \u001b[1;32mdef\u001b[0m \u001b[0m_failover_to_python\u001b[0m\u001b[1;33m(\u001b[0m\u001b[0mself\u001b[0m\u001b[1;33m)\u001b[0m\u001b[1;33m:\u001b[0m\u001b[1;33m\u001b[0m\u001b[1;33m\u001b[0m\u001b[0m\n",
      "\u001b[1;32mC:\\chengxu\\Anaconda3\\lib\\site-packages\\pandas\\io\\parsers.py\u001b[0m in \u001b[0;36m__init__\u001b[1;34m(self, src, **kwds)\u001b[0m\n\u001b[0;32m   1959\u001b[0m                 \u001b[0m_validate_usecols_names\u001b[0m\u001b[1;33m(\u001b[0m\u001b[0musecols\u001b[0m\u001b[1;33m,\u001b[0m \u001b[0mself\u001b[0m\u001b[1;33m.\u001b[0m\u001b[0mnames\u001b[0m\u001b[1;33m)\u001b[0m\u001b[1;33m\u001b[0m\u001b[1;33m\u001b[0m\u001b[0m\n\u001b[0;32m   1960\u001b[0m \u001b[1;33m\u001b[0m\u001b[0m\n\u001b[1;32m-> 1961\u001b[1;33m         \u001b[0mself\u001b[0m\u001b[1;33m.\u001b[0m\u001b[0m_validate_parse_dates_presence\u001b[0m\u001b[1;33m(\u001b[0m\u001b[0mself\u001b[0m\u001b[1;33m.\u001b[0m\u001b[0mnames\u001b[0m\u001b[1;33m)\u001b[0m\u001b[1;33m\u001b[0m\u001b[1;33m\u001b[0m\u001b[0m\n\u001b[0m\u001b[0;32m   1962\u001b[0m         \u001b[0mself\u001b[0m\u001b[1;33m.\u001b[0m\u001b[0m_set_noconvert_columns\u001b[0m\u001b[1;33m(\u001b[0m\u001b[1;33m)\u001b[0m\u001b[1;33m\u001b[0m\u001b[1;33m\u001b[0m\u001b[0m\n\u001b[0;32m   1963\u001b[0m \u001b[1;33m\u001b[0m\u001b[0m\n",
      "\u001b[1;32mC:\\chengxu\\Anaconda3\\lib\\site-packages\\pandas\\io\\parsers.py\u001b[0m in \u001b[0;36m_validate_parse_dates_presence\u001b[1;34m(self, columns)\u001b[0m\n\u001b[0;32m   1414\u001b[0m         \u001b[1;32mif\u001b[0m \u001b[0mmissing_cols\u001b[0m\u001b[1;33m:\u001b[0m\u001b[1;33m\u001b[0m\u001b[1;33m\u001b[0m\u001b[0m\n\u001b[0;32m   1415\u001b[0m             raise ValueError(\n\u001b[1;32m-> 1416\u001b[1;33m                 \u001b[1;34mf\"Missing column provided to 'parse_dates': '{missing_cols}'\"\u001b[0m\u001b[1;33m\u001b[0m\u001b[1;33m\u001b[0m\u001b[0m\n\u001b[0m\u001b[0;32m   1417\u001b[0m             )\n\u001b[0;32m   1418\u001b[0m \u001b[1;33m\u001b[0m\u001b[0m\n",
      "\u001b[1;31mValueError\u001b[0m: Missing column provided to 'parse_dates': 'Date'"
     ]
    }
   ],
   "source": [
    "df = pd.read_csv(\"http://www.google.com/finance/historical?q=NASDAQ:ADBE&startdate=Jan+01%2C+2009&enddate=Aug+2%2C+2012&output=csv\", parse_dates=[\"Date\"])\n",
    "\n",
    "p = figure(plot_width=500, plot_height=500, x_axis_type=\"datetime\")\n",
    "\n",
    "p.line(df['Date'], df['Close'], color='Orange', alpha=0.5)\n",
    "\n",
    "output_file(\"Timeseries.html\")\n",
    "show(p)"
   ]
  },
  {
   "cell_type": "code",
   "execution_count": 21,
   "id": "e73838ea-00e6-4117-b19d-6de729578669",
   "metadata": {},
   "outputs": [],
   "source": [
    "from bokeh.plotting import figure, output_file, show\n",
    "\n",
    "plot = figure(plot_width=300, plot_height=300)\n",
    "plot.quad(top=[2, 3, 4], bottom=[1, 2, 3], left=[1, 2, 3],\n",
    "          right=[1.2, 2.5, 3.7], color=\"#B3DE69\")\n",
    "\n",
    "show(plot)"
   ]
  },
  {
   "cell_type": "code",
   "execution_count": null,
   "id": "08bd8368-f7ba-445f-aa71-bd3755d625f4",
   "metadata": {},
   "outputs": [],
   "source": []
  }
 ],
 "metadata": {
  "kernelspec": {
   "display_name": "Python 3",
   "language": "python",
   "name": "python3"
  },
  "language_info": {
   "codemirror_mode": {
    "name": "ipython",
    "version": 3
   },
   "file_extension": ".py",
   "mimetype": "text/x-python",
   "name": "python",
   "nbconvert_exporter": "python",
   "pygments_lexer": "ipython3",
   "version": "3.7.4"
  }
 },
 "nbformat": 4,
 "nbformat_minor": 5
}
