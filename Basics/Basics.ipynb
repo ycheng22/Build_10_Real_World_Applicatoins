{
 "cells": [
  {
   "cell_type": "markdown",
   "id": "9de8821e-e2b6-4881-8639-93488583d5a1",
   "metadata": {},
   "source": [
    "In this noteboo, I record the basics in the course. "
   ]
  },
  {
   "cell_type": "code",
   "execution_count": null,
   "id": "2f2f62fc-4200-4f8b-9f41-24a26b907d8c",
   "metadata": {},
   "outputs": [],
   "source": []
  }
 ],
 "metadata": {
  "kernelspec": {
   "display_name": "Python 3",
   "language": "python",
   "name": "python3"
  },
  "language_info": {
   "codemirror_mode": {
    "name": "ipython",
    "version": 3
   },
   "file_extension": ".py",
   "mimetype": "text/x-python",
   "name": "python",
   "nbconvert_exporter": "python",
   "pygments_lexer": "ipython3",
   "version": "3.7.4"
  }
 },
 "nbformat": 4,
 "nbformat_minor": 5
}
