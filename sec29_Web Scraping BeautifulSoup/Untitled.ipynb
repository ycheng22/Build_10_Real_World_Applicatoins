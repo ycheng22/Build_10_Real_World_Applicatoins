{
 "cells": [
  {
   "cell_type": "code",
   "execution_count": 1,
   "id": "8e219169-82b8-43db-934b-e676d3771027",
   "metadata": {},
   "outputs": [],
   "source": [
    "import requests\n",
    "from bs4 import BeautifulSoup"
   ]
  },
  {
   "cell_type": "code",
   "execution_count": 2,
   "id": "bab14013-a49d-45ab-8919-6a399766d06b",
   "metadata": {},
   "outputs": [],
   "source": [
    "r = requests.get(\"https://pythonizing.github.io/data/example.html\", \n",
    "                 headers={'User-agent': 'Mozilla/5.0 (X11; Ubuntu; Linux x86_64; rv:61.0) Gecko/20100101 Firefox/61.0'})\n",
    "c = r.content"
   ]
  },
  {
   "cell_type": "code",
   "execution_count": 4,
   "id": "04eaa828-d8fd-4086-ad28-8f98be145269",
   "metadata": {},
   "outputs": [
    {
     "data": {
      "text/plain": [
       "b'\\n<!DOCTYPE html>\\n<html>\\n<head>\\n<style>\\ndiv.cities {\\n    background-color:black;\\n    color:white;\\n    margin:20px;\\n    padding:20px;\\n} \\n</style>\\n</head>\\n<body>\\n\\n<h1 align=\"center\"> Here are three big cities </h1>\\n\\n<div class=\"cities\">\\n<h2>London</h2>\\n<p>London is the capital of England and it\\'s been a British settlement since 2000 years ago. </p>\\n</div>\\n\\n<div class=\"cities\">\\n<h2>Paris</h2>\\n<p>Paris is the capital city of France. It was declared capital since 508.</p>\\n</div>\\n\\n<div class=\"cities\">\\n<h2>Tokyo</h2>\\n<p>Tokyo is the capital of Japan and one of the most populated cities in the world.</p>\\n</div>\\n\\n</body>\\n</html>\\n'"
      ]
     },
     "execution_count": 4,
     "metadata": {},
     "output_type": "execute_result"
    }
   ],
   "source": [
    "c"
   ]
  },
  {
   "cell_type": "code",
   "execution_count": 5,
   "id": "3ccb9880-6548-47da-ab2c-67ca278dd278",
   "metadata": {},
   "outputs": [],
   "source": [
    "soup = BeautifulSoup(c, \"html.parser\")"
   ]
  },
  {
   "cell_type": "code",
   "execution_count": 6,
   "id": "21d5e7cc-4663-4f17-917c-f4c2f2756385",
   "metadata": {},
   "outputs": [
    {
     "name": "stdout",
     "output_type": "stream",
     "text": [
      "<!DOCTYPE html>\n",
      "<html>\n",
      " <head>\n",
      "  <style>\n",
      "   div.cities {\n",
      "    background-color:black;\n",
      "    color:white;\n",
      "    margin:20px;\n",
      "    padding:20px;\n",
      "}\n",
      "  </style>\n",
      " </head>\n",
      " <body>\n",
      "  <h1 align=\"center\">\n",
      "   Here are three big cities\n",
      "  </h1>\n",
      "  <div class=\"cities\">\n",
      "   <h2>\n",
      "    London\n",
      "   </h2>\n",
      "   <p>\n",
      "    London is the capital of England and it's been a British settlement since 2000 years ago.\n",
      "   </p>\n",
      "  </div>\n",
      "  <div class=\"cities\">\n",
      "   <h2>\n",
      "    Paris\n",
      "   </h2>\n",
      "   <p>\n",
      "    Paris is the capital city of France. It was declared capital since 508.\n",
      "   </p>\n",
      "  </div>\n",
      "  <div class=\"cities\">\n",
      "   <h2>\n",
      "    Tokyo\n",
      "   </h2>\n",
      "   <p>\n",
      "    Tokyo is the capital of Japan and one of the most populated cities in the world.\n",
      "   </p>\n",
      "  </div>\n",
      " </body>\n",
      "</html>\n",
      "\n"
     ]
    }
   ],
   "source": [
    "print(soup.prettify())"
   ]
  },
  {
   "cell_type": "code",
   "execution_count": 7,
   "id": "3e6aec47-6aeb-46d5-8c13-0922f5da9868",
   "metadata": {},
   "outputs": [],
   "source": [
    "all = soup.find_all(\"div\", {\"class\": \"cities\"})\n",
    "#if use find, will return first div element only"
   ]
  },
  {
   "cell_type": "code",
   "execution_count": 10,
   "id": "c0d70a98-99e5-433c-b824-95302a14eb66",
   "metadata": {},
   "outputs": [
    {
     "data": {
      "text/plain": [
       "[<div class=\"cities\">\n",
       " <h2>London</h2>\n",
       " <p>London is the capital of England and it's been a British settlement since 2000 years ago. </p>\n",
       " </div>,\n",
       " <div class=\"cities\">\n",
       " <h2>Paris</h2>\n",
       " <p>Paris is the capital city of France. It was declared capital since 508.</p>\n",
       " </div>,\n",
       " <div class=\"cities\">\n",
       " <h2>Tokyo</h2>\n",
       " <p>Tokyo is the capital of Japan and one of the most populated cities in the world.</p>\n",
       " </div>]"
      ]
     },
     "execution_count": 10,
     "metadata": {},
     "output_type": "execute_result"
    }
   ],
   "source": [
    "all"
   ]
  },
  {
   "cell_type": "code",
   "execution_count": 11,
   "id": "1e4291a2-b47a-4513-829b-b40ba97d5e73",
   "metadata": {},
   "outputs": [
    {
     "data": {
      "text/plain": [
       "[<h2>London</h2>]"
      ]
     },
     "execution_count": 11,
     "metadata": {},
     "output_type": "execute_result"
    }
   ],
   "source": [
    "all[0].find_all('h2')"
   ]
  },
  {
   "cell_type": "code",
   "execution_count": 14,
   "id": "f9af827b-1bb1-41ce-9f40-da032386a636",
   "metadata": {},
   "outputs": [
    {
     "data": {
      "text/plain": [
       "'London'"
      ]
     },
     "execution_count": 14,
     "metadata": {},
     "output_type": "execute_result"
    }
   ],
   "source": [
    "all[0].find_all('h2')[0].text"
   ]
  },
  {
   "cell_type": "code",
   "execution_count": 20,
   "id": "66514283-971a-4ac8-8f7b-860b3e937878",
   "metadata": {},
   "outputs": [
    {
     "name": "stdout",
     "output_type": "stream",
     "text": [
      "London\n",
      "Paris\n",
      "Tokyo\n"
     ]
    }
   ],
   "source": [
    "for item in all:\n",
    "    print(item.find_all(\"h2\")[0].text)"
   ]
  },
  {
   "cell_type": "code",
   "execution_count": 21,
   "id": "e02ee302-6ff0-4646-a8f3-fe206617e888",
   "metadata": {},
   "outputs": [
    {
     "name": "stdout",
     "output_type": "stream",
     "text": [
      "London is the capital of England and it's been a British settlement since 2000 years ago. \n",
      "Paris is the capital city of France. It was declared capital since 508.\n",
      "Tokyo is the capital of Japan and one of the most populated cities in the world.\n"
     ]
    }
   ],
   "source": [
    "for item in all:\n",
    "    print(item.find_all(\"p\")[0].text)"
   ]
  },
  {
   "cell_type": "code",
   "execution_count": null,
   "id": "a5107e57-99e1-462e-9edf-284fea6455c9",
   "metadata": {},
   "outputs": [],
   "source": []
  }
 ],
 "metadata": {
  "kernelspec": {
   "display_name": "Python 3",
   "language": "python",
   "name": "python3"
  },
  "language_info": {
   "codemirror_mode": {
    "name": "ipython",
    "version": 3
   },
   "file_extension": ".py",
   "mimetype": "text/x-python",
   "name": "python",
   "nbconvert_exporter": "python",
   "pygments_lexer": "ipython3",
   "version": "3.7.4"
  }
 },
 "nbformat": 4,
 "nbformat_minor": 5
}
